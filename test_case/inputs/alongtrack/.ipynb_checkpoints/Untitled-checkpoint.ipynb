{
 "cells": [
  {
   "cell_type": "code",
   "execution_count": 7,
   "metadata": {},
   "outputs": [],
   "source": [
    "import xarray as xr\n",
    "import dask\n",
    "from dask.delayed import delayed\n",
    "from dask.distributed import Client\n",
    "import numpy as np\n",
    "import datetime\n",
    "import matplotlib.pyplot as plt"
   ]
  },
  {
   "cell_type": "code",
   "execution_count": 8,
   "metadata": {},
   "outputs": [],
   "source": [
    "nc_file = '/Users/mballaro/Public/scuba_grid_cls/test_case/inputs/alongtrack/sla_al_20140101-20140131.nc'"
   ]
  },
  {
   "cell_type": "code",
   "execution_count": 9,
   "metadata": {},
   "outputs": [
    {
     "data": {
      "text/plain": [
       "<xarray.Dataset>\n",
       "Dimensions:    (time: 1459545)\n",
       "Coordinates:\n",
       "  * time       (time) datetime64[ns] 2013-12-31T23:54:41.244443136 ... 2014-01-31T23:07:54.916014336\n",
       "    longitude  (time) float64 ...\n",
       "    latitude   (time) float64 ...\n",
       "Data variables:\n",
       "    cycle      (time) int16 ...\n",
       "    track      (time) int16 ...\n",
       "    SLA        (time) float32 ...\n",
       "Attributes:\n",
       "    Conventions:                     CF-1.6\n",
       "    cdm_data_type:                   Swath\n",
       "    date_created:                    2018-06-19T11:57:31Z\n",
       "    date_issued:                     2018-06-19T11:57:31Z\n",
       "    date_modified:                   2018-06-19T11:57:31Z\n",
       "    geospatial_lat_max:              81.502809\n",
       "    geospatial_lat_min:              -78.378573\n",
       "    geospatial_lat_resolution:       0.041001500000000135\n",
       "    geospatial_lat_units:            degrees_north\n",
       "    geospatial_lon_max:              360.001034\n",
       "    geospatial_lon_min:              0.000334\n",
       "    geospatial_lon_resolution:       0.01672200000001567\n",
       "    geospatial_lon_units:            degrees_east\n",
       "    geospatial_vertical_max:         0.0\n",
       "    geospatial_vertical_min:         0.0\n",
       "    geospatial_vertical_positive:    down\n",
       "    geospatial_vertical_resolution:  point\n",
       "    geospatial_vertical_units:       m\n",
       "    history:                         2018-06-19T11:57:31Z: Created by  DUACS ...\n",
       "    standard_name_vocabulary:        NetCDF Climate and Forecast (CF) Metadat...\n",
       "    time_coverage_resolution:        P1S"
      ]
     },
     "execution_count": 9,
     "metadata": {},
     "output_type": "execute_result"
    }
   ],
   "source": [
    "ds = xr.open_dataset(nc_file)\n",
    "ds"
   ]
  },
  {
   "cell_type": "code",
   "execution_count": 10,
   "metadata": {},
   "outputs": [],
   "source": [
    "def gridding(darr, pas):\n",
    "\n",
    "    \"\"\"\n",
    "    \"\"\"\n",
    "\n",
    "    try:\n",
    "        pas_lat = pas[0]\n",
    "        pas_lon = pas[1]\n",
    "    except:\n",
    "        pas_lat = pas\n",
    "        pas_lon = pas\n",
    "\n",
    "    # DataArray d'identification des boites (identifiant entier unique pour chaque boite)\n",
    "    id_boites = xr.DataArray(np.empty(darr.size, dtype=np.int32), dims=darr.dims, name='id_boites')\n",
    "    id_lon = np.floor(((darr['longitude'].values+360) % 360) / pas_lon).astype(np.int32)\n",
    "    nb_lon = np.ceil(360 / pas_lon).astype(np.int32)\n",
    "    id_lat = np.floor((darr['latitude'].values + 90) / pas_lat).astype(np.int32)\n",
    "    nb_lat = np.ceil(180 / pas_lat).astype(np.int32)\n",
    "    id_boites.values[:] = id_lon + nb_lon * id_lat\n",
    "    # coordonnées de la grille\n",
    "    lon = np.linspace(pas_lon/2, 360-pas_lon/2, nb_lon)\n",
    "    lat = np.linspace(-90+pas_lat/2, 90-pas_lat/2, nb_lat)\n",
    "\n",
    "    # Découpage par boite\n",
    "    # ajout de la coordonnées id_boites\n",
    "    darr['index_boite'] = ('time',id_boites.values[:])\n",
    "    # conversion dataset + dask dataframe\n",
    "    dask_data = xr.Dataset({'data':darr}).to_dask_dataframe()\n",
    "\n",
    "    # moyenne\n",
    "    data_avg = dask_data.groupby('index_boite').mean().compute()\n",
    "    # indice des boites\n",
    "    ilat = data_avg.index // nb_lon\n",
    "    ilon = data_avg.index % nb_lon\n",
    "    # on recase dans la grille\n",
    "    grid_mean = np.full((nb_lat, nb_lon), np.nan, dtype=np.float64)\n",
    "    grid_mean[[ilat, ilon]] = data_avg.data\n",
    "    # DataArray des moyennes\n",
    "    xr_grid_mean = xr.DataArray(grid_mean, coords=[('latitude', lat), ('longitude', lon)])\n",
    "\n",
    "    # Idem pour l'écart-type\n",
    "    data_std = dask_data.groupby('index_boite').std().compute()\n",
    "    # on recase dans la grille\n",
    "    grid_std = np.full((nb_lat, nb_lon), np.nan, dtype=np.float64)\n",
    "    grid_std[[ilat, ilon]] = data_std.data\n",
    "    # DataArray des comptes\n",
    "    xr_grid_std = xr.DataArray(grid_std, coords=[('latitude', lat), ('longitude', lon)])\n",
    "\n",
    "    # Idem pour le nombre de points\n",
    "    data_counts = dask_data.groupby('index_boite').count().compute()\n",
    "    # on recase dans la grille\n",
    "    grid_counts = np.zeros((nb_lat, nb_lon), dtype=np.int32)\n",
    "    grid_counts[[ilat, ilon]] = data_counts.data\n",
    "    # DataArray des comptes\n",
    "    xr_grid_counts = xr.DataArray(grid_counts, coords=[('latitude', lat), ('longitude', lon)])\n",
    "\n",
    "    dset2 = xr.Dataset({darr.name + '_MEAN': xr_grid_mean, darr.name + '_STD': xr_grid_std, darr.name + '_COUNTS': xr_grid_counts})\n",
    "\n",
    "    if dset2.longitude.size == 1:\n",
    "        return dset2.drop('longitude').squeeze('longitude')\n",
    "    if dset2.latitude.size == 1:\n",
    "        return dset2.drop('latitude').squeeze('latitude')\n",
    "\n",
    "    return dset2"
   ]
  },
  {
   "cell_type": "code",
   "execution_count": 12,
   "metadata": {},
   "outputs": [
    {
     "name": "stderr",
     "output_type": "stream",
     "text": [
      "/anaconda3/lib/python3.7/site-packages/ipykernel_launcher.py:37: FutureWarning: Using a non-tuple sequence for multidimensional indexing is deprecated; use `arr[tuple(seq)]` instead of `arr[seq]`. In the future this will be interpreted as an array index, `arr[np.array(seq)]`, which will result either in an error or a different result.\n",
      "/anaconda3/lib/python3.7/site-packages/dask/dataframe/core.py:3684: RuntimeWarning: invalid value encountered in sqrt\n",
      "  df = func(*args, **kwargs)\n",
      "/anaconda3/lib/python3.7/site-packages/ipykernel_launcher.py:45: FutureWarning: Using a non-tuple sequence for multidimensional indexing is deprecated; use `arr[tuple(seq)]` instead of `arr[seq]`. In the future this will be interpreted as an array index, `arr[np.array(seq)]`, which will result either in an error or a different result.\n",
      "/anaconda3/lib/python3.7/site-packages/ipykernel_launcher.py:53: FutureWarning: Using a non-tuple sequence for multidimensional indexing is deprecated; use `arr[tuple(seq)]` instead of `arr[seq]`. In the future this will be interpreted as an array index, `arr[np.array(seq)]`, which will result either in an error or a different result.\n"
     ]
    }
   ],
   "source": [
    "ds_res = gridding(ds['SLA'], (2,2))"
   ]
  },
  {
   "cell_type": "code",
   "execution_count": 13,
   "metadata": {},
   "outputs": [
    {
     "data": {
      "text/plain": [
       "<xarray.Dataset>\n",
       "Dimensions:     (latitude: 90, longitude: 180)\n",
       "Coordinates:\n",
       "  * latitude    (latitude) float64 -89.0 -87.0 -85.0 -83.0 ... 85.0 87.0 89.0\n",
       "  * longitude   (longitude) float64 1.0 3.0 5.0 7.0 ... 353.0 355.0 357.0 359.0\n",
       "Data variables:\n",
       "    SLA_MEAN    (latitude, longitude) float64 nan nan nan nan ... nan nan nan\n",
       "    SLA_STD     (latitude, longitude) float64 nan nan nan nan ... nan nan nan\n",
       "    SLA_COUNTS  (latitude, longitude) int32 0 0 0 0 0 0 0 0 ... 0 0 0 0 0 0 0 0"
      ]
     },
     "execution_count": 13,
     "metadata": {},
     "output_type": "execute_result"
    }
   ],
   "source": [
    "ds_res"
   ]
  },
  {
   "cell_type": "code",
   "execution_count": null,
   "metadata": {},
   "outputs": [],
   "source": []
  }
 ],
 "metadata": {
  "kernelspec": {
   "display_name": "Python 3",
   "language": "python",
   "name": "python3"
  },
  "language_info": {
   "codemirror_mode": {
    "name": "ipython",
    "version": 3
   },
   "file_extension": ".py",
   "mimetype": "text/x-python",
   "name": "python",
   "nbconvert_exporter": "python",
   "pygments_lexer": "ipython3",
   "version": "3.7.1"
  }
 },
 "nbformat": 4,
 "nbformat_minor": 2
}

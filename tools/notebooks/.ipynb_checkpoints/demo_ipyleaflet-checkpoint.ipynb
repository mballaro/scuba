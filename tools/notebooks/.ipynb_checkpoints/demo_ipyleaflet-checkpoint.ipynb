{
 "cells": [
  {
   "cell_type": "code",
   "execution_count": 1,
   "metadata": {},
   "outputs": [],
   "source": [
    "import numpy as np\n",
    "from ipywidgets import Dropdown\n",
    "from bqplot import Lines, Figure, LinearScale, DateScale, Axis, LogScale\n",
    "from ipyleaflet import Map, WidgetControl, basemaps, Marker, FullScreenControl\n",
    "import xarray as xr"
   ]
  },
  {
   "cell_type": "code",
   "execution_count": 2,
   "metadata": {},
   "outputs": [],
   "source": [
    "# Read dataset\n",
    "ds = xr.open_dataset('../../test_case/psd_alongtrack_direction.nc')"
   ]
  },
  {
   "cell_type": "code",
   "execution_count": 3,
   "metadata": {},
   "outputs": [],
   "source": [
    "# Compute Signal-Noise Ratio and Spectral ratio\n",
    "ds['SNR'] = ds['psd_ref']/ds['psd_diff']\n",
    "ds['SR'] = ds['psd_study']/ds['psd_ref']"
   ]
  },
  {
   "cell_type": "code",
   "execution_count": 4,
   "metadata": {},
   "outputs": [],
   "source": [
    "# Initial lon/lat values\n",
    "vlon = 233.\n",
    "vlat = -12."
   ]
  },
  {
   "cell_type": "code",
   "execution_count": 5,
   "metadata": {},
   "outputs": [],
   "source": [
    "# Read initial values\n",
    "x_data = ds['wavenumber'].values\n",
    "y_data1 = ds['psd_ref'].sel(lon=vlon, lat=vlat, method='nearest').values\n",
    "y_data1 = np.ma.masked_where(x_data == 0., y_data1).compressed()\n",
    "y_data2 = ds['psd_study'].sel(lon=vlon, lat=vlat, method='nearest').values\n",
    "y_data2 = np.ma.masked_where(x_data == 0., y_data2).compressed()\n",
    "y_data3 = ds['coherence'].sel(lon=vlon, lat=vlat, method='nearest').values\n",
    "y_data3 = np.ma.masked_where(x_data == 0., y_data3).compressed()\n",
    "y_data4 = ds['psd_diff'].sel(lon=vlon, lat=vlat, method='nearest').values\n",
    "y_data4 = np.ma.masked_where(x_data == 0., y_data4).compressed()\n",
    "x_data = np.ma.masked_where(x_data == 0., x_data).compressed()"
   ]
  },
  {
   "cell_type": "code",
   "execution_count": 6,
   "metadata": {},
   "outputs": [],
   "source": [
    "# Create bottomright subplot with PSD\n",
    "x_scale = LogScale(reverse=True)\n",
    "y_scale = LogScale()\n",
    "\n",
    "lines = Lines(x=[1./x_data, 1./x_data], \n",
    "              y=[y_data1, y_data2], \n",
    "              scales={'x': x_scale, 'y': y_scale},\n",
    "              labels=['ref', 'study'], display_legend=True,\n",
    "             colors=['mediumaquamarine', 'lightcoral'])\n",
    "ax_x = Axis(label='Wavelength (km)', scale=x_scale)\n",
    "ax_y = Axis(label='Power Spectral Density (m2/cy/km)', scale=y_scale, orientation='vertical', side='left')\n",
    "\n",
    "figure = Figure(axes=[ax_x, ax_y], title='PSD', marks=[lines], animation_duration=500,\n",
    "                layout={'max_height': '500px', 'max_width': '500px'}, legend_location='bottom-left')\n",
    "# figure"
   ]
  },
  {
   "cell_type": "code",
   "execution_count": 7,
   "metadata": {},
   "outputs": [],
   "source": [
    "# Create topright subplot with MSC, or SNR ....\n",
    "data_name = 'coherence'\n",
    "x_scale2 = LogScale(reverse=True)\n",
    "y_scale2 = LinearScale()\n",
    "\n",
    "lines2 = Lines(x=1./x_data, \n",
    "              y=y_data3, \n",
    "              scales={'x': x_scale2, 'y': y_scale2}, colors=['black'])\n",
    "ax_x2 = Axis(label='Wavelength (km)', scale=x_scale2)\n",
    "ax_y2 = Axis(label=data_name,  scale=y_scale2, orientation='vertical', side='left') # ,\n",
    "\n",
    "figure2 = Figure(axes=[ax_x2, ax_y2], title='Magnitude Squared Coherence', marks=[lines2], animation_duration=500,\n",
    "                layout={'max_height': '500px', 'max_width': '500px'})\n",
    "#figure2"
   ]
  },
  {
   "cell_type": "code",
   "execution_count": 8,
   "metadata": {},
   "outputs": [],
   "source": [
    "def update_figure(data_name, vlon, vlat):\n",
    "    lines.y = [ds['psd_ref'].sel(lon=vlon, lat=vlat, method='nearest').values, \n",
    "               ds['psd_study'].sel(lon=vlon, lat=vlat, method='nearest').values]\n",
    "    lines2.y = ds[data_name].sel(lon=vlon, lat=vlat, method='nearest').values\n",
    "    ax_y2.label = data_name\n",
    "    if data_name == 'coherence':\n",
    "        title = 'Magnitude Squared Coherence'\n",
    "    elif data_name == 'SNR':\n",
    "        title = 'Signal-Noise-Ratio'\n",
    "    elif data_name == 'SR':\n",
    "        title = 'Spectral Ratio'\n",
    "    elif data_name == 'psd_diff':\n",
    "        title = 'PSD Error'\n",
    "    else:\n",
    "        title = ' '\n",
    "    figure2.title = title"
   ]
  },
  {
   "cell_type": "code",
   "execution_count": 9,
   "metadata": {},
   "outputs": [],
   "source": [
    "def on_click(change):\n",
    "    global data_name\n",
    "    data_name = change['new']\n",
    "    update_figure(data_name, vlon%360., vlat)"
   ]
  },
  {
   "cell_type": "code",
   "execution_count": 10,
   "metadata": {},
   "outputs": [],
   "source": [
    "def on_location_changed(event):\n",
    "    global vlon\n",
    "    global vlat\n",
    "    vlat, vlon = event['new']\n",
    "    update_figure(data_name, vlon%360., vlat)"
   ]
  },
  {
   "cell_type": "code",
   "execution_count": 11,
   "metadata": {},
   "outputs": [
    {
     "data": {
      "application/vnd.jupyter.widget-view+json": {
       "model_id": "a8d0393dc8734419927c0f14d514d4b5",
       "version_major": 2,
       "version_minor": 0
      },
      "text/plain": [
       "Map(basemap={'url': 'http://c.basemaps.cartocdn.com/light_all/{z}/{x}/{y}.png', 'max_zoom': 20, 'attribution':…"
      ]
     },
     "metadata": {},
     "output_type": "display_data"
    }
   ],
   "source": [
    "# Create map with initial marker\n",
    "m = Map(center = (0, 180), zoom=0, basemap=basemaps.CartoDB.Positron, scroll_wheel_zoom=True)\n",
    "m.layout.height='575px'\n",
    "\n",
    "# add marker layer\n",
    "marker = Marker(location=(vlat, vlon), draggable=True)\n",
    "marker.observe(on_location_changed, 'location')\n",
    "m.add_layer(marker)\n",
    "# add bottomright layer\n",
    "widget_control1 = WidgetControl(widget=figure, position='bottomright')\n",
    "m.add_control(widget_control1)\n",
    "# add topright layer\n",
    "widget_control2 = WidgetControl(widget=figure2, position='topright')\n",
    "m.add_control(widget_control2)\n",
    "# Add variable selector\n",
    "dropdown = Dropdown(\n",
    "    options=['coherence', 'psd_diff', 'SNR', 'SR'],\n",
    "    value=data_name,\n",
    "    description='Variables:'\n",
    ")   \n",
    "dropdown.observe(on_click, 'value')\n",
    "widget_control3 = WidgetControl(widget=dropdown, position='topright')\n",
    "m.add_control(widget_control3)\n",
    "m.add_control(FullScreenControl())\n",
    "m\n",
    "# Use the full screen mode to display all info, move location marker to look at one specific area"
   ]
  },
  {
   "cell_type": "code",
   "execution_count": null,
   "metadata": {},
   "outputs": [],
   "source": []
  }
 ],
 "metadata": {
  "kernelspec": {
   "display_name": "Python 3",
   "language": "python",
   "name": "python3"
  },
  "language_info": {
   "codemirror_mode": {
    "name": "ipython",
    "version": 3
   },
   "file_extension": ".py",
   "mimetype": "text/x-python",
   "name": "python",
   "nbconvert_exporter": "python",
   "pygments_lexer": "ipython3",
   "version": "3.7.4"
  }
 },
 "nbformat": 4,
 "nbformat_minor": 2
}
